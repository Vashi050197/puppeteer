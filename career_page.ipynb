{
  "cells": [
    {
      "cell_type": "markdown",
      "metadata": {
        "id": "view-in-github",
        "colab_type": "text"
      },
      "source": [
        "<a href=\"https://colab.research.google.com/github/Vashi050197/puppeteer/blob/main/career_page.ipynb\" target=\"_parent\"><img src=\"https://colab.research.google.com/assets/colab-badge.svg\" alt=\"Open In Colab\"/></a>"
      ]
    },
    {
      "cell_type": "code",
      "execution_count": null,
      "id": "a0f53508-7fca-4eaa-a120-390da0096785",
      "metadata": {
        "id": "a0f53508-7fca-4eaa-a120-390da0096785",
        "outputId": "0f038d24-380c-4fa8-e253-50ca7718722f"
      },
      "outputs": [
        {
          "name": "stdout",
          "output_type": "stream",
          "text": [
            "Collecting selenium\n",
            "  Downloading selenium-4.26.1-py3-none-any.whl.metadata (7.1 kB)\n",
            "Requirement already satisfied: urllib3<3,>=1.26 in /Library/Frameworks/Python.framework/Versions/3.13/lib/python3.13/site-packages (from urllib3[socks]<3,>=1.26->selenium) (2.2.3)\n",
            "Collecting trio~=0.17 (from selenium)\n",
            "  Downloading trio-0.27.0-py3-none-any.whl.metadata (8.6 kB)\n",
            "Collecting trio-websocket~=0.9 (from selenium)\n",
            "  Downloading trio_websocket-0.11.1-py3-none-any.whl.metadata (4.7 kB)\n",
            "Requirement already satisfied: certifi>=2021.10.8 in /Library/Frameworks/Python.framework/Versions/3.13/lib/python3.13/site-packages (from selenium) (2024.8.30)\n",
            "Collecting typing_extensions~=4.9 (from selenium)\n",
            "  Downloading typing_extensions-4.12.2-py3-none-any.whl.metadata (3.0 kB)\n",
            "Requirement already satisfied: websocket-client~=1.8 in /Library/Frameworks/Python.framework/Versions/3.13/lib/python3.13/site-packages (from selenium) (1.8.0)\n",
            "Requirement already satisfied: attrs>=23.2.0 in /Library/Frameworks/Python.framework/Versions/3.13/lib/python3.13/site-packages (from trio~=0.17->selenium) (24.2.0)\n",
            "Collecting sortedcontainers (from trio~=0.17->selenium)\n",
            "  Downloading sortedcontainers-2.4.0-py2.py3-none-any.whl.metadata (10 kB)\n",
            "Requirement already satisfied: idna in /Library/Frameworks/Python.framework/Versions/3.13/lib/python3.13/site-packages (from trio~=0.17->selenium) (3.10)\n",
            "Collecting outcome (from trio~=0.17->selenium)\n",
            "  Downloading outcome-1.3.0.post0-py2.py3-none-any.whl.metadata (2.6 kB)\n",
            "Requirement already satisfied: sniffio>=1.3.0 in /Library/Frameworks/Python.framework/Versions/3.13/lib/python3.13/site-packages (from trio~=0.17->selenium) (1.3.1)\n",
            "Collecting wsproto>=0.14 (from trio-websocket~=0.9->selenium)\n",
            "  Downloading wsproto-1.2.0-py3-none-any.whl.metadata (5.6 kB)\n",
            "Collecting pysocks!=1.5.7,<2.0,>=1.5.6 (from urllib3[socks]<3,>=1.26->selenium)\n",
            "  Downloading PySocks-1.7.1-py3-none-any.whl.metadata (13 kB)\n",
            "Requirement already satisfied: h11<1,>=0.9.0 in /Library/Frameworks/Python.framework/Versions/3.13/lib/python3.13/site-packages (from wsproto>=0.14->trio-websocket~=0.9->selenium) (0.14.0)\n",
            "Downloading selenium-4.26.1-py3-none-any.whl (9.7 MB)\n",
            "\u001b[2K   \u001b[90m━━━━━━━━━━━━━━━━━━━━━━━━━━━━━━━━━━━━━━━━\u001b[0m \u001b[32m9.7/9.7 MB\u001b[0m \u001b[31m15.8 MB/s\u001b[0m eta \u001b[36m0:00:00\u001b[0ma \u001b[36m0:00:01\u001b[0m\n",
            "\u001b[?25hDownloading trio-0.27.0-py3-none-any.whl (481 kB)\n",
            "Downloading trio_websocket-0.11.1-py3-none-any.whl (17 kB)\n",
            "Downloading typing_extensions-4.12.2-py3-none-any.whl (37 kB)\n",
            "Downloading PySocks-1.7.1-py3-none-any.whl (16 kB)\n",
            "Downloading wsproto-1.2.0-py3-none-any.whl (24 kB)\n",
            "Downloading outcome-1.3.0.post0-py2.py3-none-any.whl (10 kB)\n",
            "Downloading sortedcontainers-2.4.0-py2.py3-none-any.whl (29 kB)\n",
            "Installing collected packages: sortedcontainers, wsproto, typing_extensions, pysocks, outcome, trio, trio-websocket, selenium\n",
            "Successfully installed outcome-1.3.0.post0 pysocks-1.7.1 selenium-4.26.1 sortedcontainers-2.4.0 trio-0.27.0 trio-websocket-0.11.1 typing_extensions-4.12.2 wsproto-1.2.0\n"
          ]
        }
      ],
      "source": [
        "!pip3 install selenium"
      ]
    },
    {
      "cell_type": "code",
      "execution_count": null,
      "id": "1c22630b-4b85-4ca8-a767-8ca595655d45",
      "metadata": {
        "id": "1c22630b-4b85-4ca8-a767-8ca595655d45"
      },
      "outputs": [],
      "source": [
        "from selenium import webdriver\n",
        "from selenium.webdriver.chrome.service import Service as ChromeService\n",
        "# from webdriver_manager.chrome import ChromeDriverManager\n",
        "import time\n",
        "\n",
        "driver = webdriver.Chrome()\n",
        "\n",
        "driver.get(\"https://google.com\")\n",
        "\n",
        "time.sleep(5)"
      ]
    },
    {
      "cell_type": "code",
      "execution_count": null,
      "id": "237fb7ea-bb8b-482c-b042-254fb0d1f6f0",
      "metadata": {
        "id": "237fb7ea-bb8b-482c-b042-254fb0d1f6f0"
      },
      "outputs": [],
      "source": [
        "from selenium.webdriver.common.by import By\n",
        "from selenium.webdriver.common.keys import Keys"
      ]
    },
    {
      "cell_type": "code",
      "execution_count": null,
      "id": "b785e0f4-efca-4f63-a1e1-61e07cf15e64",
      "metadata": {
        "id": "b785e0f4-efca-4f63-a1e1-61e07cf15e64"
      },
      "outputs": [],
      "source": [
        "import csv\n",
        "\n",
        "with open('comp1.csv', 'r') as file:\n",
        "    csv_reader = csv.reader(file)\n",
        "\n",
        "    # Skip the header row if it exists\n",
        "    next(csv_reader, None)\n",
        "    d={}\n",
        "    for row in csv_reader:\n",
        "        # Do something with each row\n",
        "        d[row[0]]=row[1]"
      ]
    },
    {
      "cell_type": "code",
      "execution_count": null,
      "id": "adff02ae-7100-4b0c-81d1-1304e75cbf1d",
      "metadata": {
        "id": "adff02ae-7100-4b0c-81d1-1304e75cbf1d"
      },
      "outputs": [],
      "source": [
        "k=list(d.keys())"
      ]
    },
    {
      "cell_type": "code",
      "execution_count": null,
      "id": "df4c588a-1563-4a88-a93c-7f9847e260d0",
      "metadata": {
        "id": "df4c588a-1563-4a88-a93c-7f9847e260d0"
      },
      "outputs": [],
      "source": [
        "g={'abb': ['https://careers.abb/global/en/search-results?keywords=python', 'b'], 'accenture': ['https://www.accenture.com/in-en/careers/jobsearch?jk=AI&sb=0&vw=0&is_rj=0&pg=1&ct=noida', 'b'], 'accolite': ['https://www.bounteous.com/careers/search-results/?location=India', 'b'], 'aditya birla minacs': ['https://careers.adityabirla.com/job-opportunities-by-function', 'n'], 'adobe': ['https://careers.adobe.com/us/en/search-results?qcity=Noida&qstate=Uttar%20Pradesh&qcountry=India', 'b'], 'aegis': ['https://www.aegisrecruitments.com/', 'm'], 'airbus': 'https://ag.wd3.myworkdayjobs.com/en-US/Airbus'}"
      ]
    },
    {
      "cell_type": "code",
      "execution_count": null,
      "id": "052570bd-5b8a-4261-8e40-914e6ab8730d",
      "metadata": {
        "id": "052570bd-5b8a-4261-8e40-914e6ab8730d",
        "outputId": "8d0febf9-bba4-4851-e28a-a3dc1a9d0f6d"
      },
      "outputs": [
        {
          "name": "stdout",
          "output_type": "stream",
          "text": [
            "7\n"
          ]
        }
      ],
      "source": [
        "i1=7\n",
        "print(len(g))"
      ]
    },
    {
      "cell_type": "code",
      "execution_count": null,
      "id": "65937390-f7ca-4103-8fb0-8677f8bf878d",
      "metadata": {
        "id": "65937390-f7ca-4103-8fb0-8677f8bf878d",
        "outputId": "13099935-c851-4753-d4c4-e38005a31240"
      },
      "outputs": [
        {
          "name": "stdout",
          "output_type": "stream",
          "text": [
            "{'abb': ['https://careers.abb/global/en/search-results?keywords=python', 'b'], 'accenture': ['https://www.accenture.com/in-en/careers/jobsearch?jk=AI&sb=0&vw=0&is_rj=0&pg=1&ct=noida', 'b'], 'accolite': ['https://www.bounteous.com/careers/search-results/?location=India', 'b'], 'aditya birla minacs': ['https://careers.adityabirla.com/job-opportunities-by-function', 'n'], 'adobe': ['https://careers.adobe.com/us/en/search-results?qcity=Noida&qstate=Uttar%20Pradesh&qcountry=India', 'b'], 'aegis': ['https://www.aegisrecruitments.com/', 'm'], 'airbus': 'https://ag.wd3.myworkdayjobs.com/en-US/Airbus'}\n"
          ]
        }
      ],
      "source": [
        "print(g)"
      ]
    },
    {
      "cell_type": "code",
      "execution_count": null,
      "id": "d51f534d-dc0c-4ab0-8572-90126eb00598",
      "metadata": {
        "id": "d51f534d-dc0c-4ab0-8572-90126eb00598"
      },
      "outputs": [],
      "source": [
        "import requests"
      ]
    },
    {
      "cell_type": "code",
      "execution_count": null,
      "id": "33f88aee-3728-4dd9-b711-39d62c9d12f5",
      "metadata": {
        "id": "33f88aee-3728-4dd9-b711-39d62c9d12f5",
        "outputId": "f9eb414d-24be-485d-9c30-e21a0031ce7f"
      },
      "outputs": [
        {
          "name": "stdout",
          "output_type": "stream",
          "text": [
            "https://careers.abb/global/en/home\n"
          ]
        },
        {
          "name": "stdin",
          "output_type": "stream",
          "text": [
            " a\n",
            " b\n",
            " c\n"
          ]
        },
        {
          "name": "stdout",
          "output_type": "stream",
          "text": [
            "https://www.accenture.com/in-en/careers\n"
          ]
        },
        {
          "name": "stdin",
          "output_type": "stream",
          "text": [
            " a\n",
            " b\n",
            " b\n"
          ]
        },
        {
          "name": "stdout",
          "output_type": "stream",
          "text": [
            "https://www.bounteous.com/careers/search-results/\n"
          ]
        },
        {
          "name": "stdin",
          "output_type": "stream",
          "text": [
            " a\n",
            " b\n",
            " c\n"
          ]
        },
        {
          "name": "stdout",
          "output_type": "stream",
          "text": [
            "https://careers.adityabirla.com/\n"
          ]
        },
        {
          "name": "stdin",
          "output_type": "stream",
          "text": [
            " a\n",
            " n\n",
            " b\n"
          ]
        },
        {
          "name": "stdout",
          "output_type": "stream",
          "text": [
            "https://careers.adobe.com/us/en\n"
          ]
        },
        {
          "name": "stdin",
          "output_type": "stream",
          "text": [
            " a\n",
            " b\n",
            " h\n"
          ]
        },
        {
          "name": "stdout",
          "output_type": "stream",
          "text": [
            "https://www.aegisrecruitments.com/\n"
          ]
        },
        {
          "name": "stdin",
          "output_type": "stream",
          "text": [
            " j\n",
            " m\n",
            " k\n"
          ]
        },
        {
          "name": "stdout",
          "output_type": "stream",
          "text": [
            "https://www.airbus.com/en/careers\n"
          ]
        },
        {
          "name": "stdin",
          "output_type": "stream",
          "text": [
            " b\n",
            " b\n"
          ]
        },
        {
          "ename": "WebDriverException",
          "evalue": "Message: disconnected: not connected to DevTools\n  (failed to check if window was closed: disconnected: not connected to DevTools)\n  (Session info: chrome=130.0.6723.117)\nStacktrace:\n0   chromedriver                        0x00000001010c15dc cxxbridge1$str$ptr + 3653648\n1   chromedriver                        0x00000001010b9e3c cxxbridge1$str$ptr + 3623024\n2   chromedriver                        0x0000000100b24100 cxxbridge1$string$len + 88404\n3   chromedriver                        0x0000000100b0e3d8 core::str::slice_error_fail::h1cab30ac4b13c655 + 63280\n4   chromedriver                        0x0000000100b0e318 core::str::slice_error_fail::h1cab30ac4b13c655 + 63088\n5   chromedriver                        0x0000000100b9f64c cxxbridge1$string$len + 593568\n6   chromedriver                        0x0000000100b5b0fc cxxbridge1$string$len + 313680\n7   chromedriver                        0x0000000100b5bd4c cxxbridge1$string$len + 316832\n8   chromedriver                        0x000000010108c64c cxxbridge1$str$ptr + 3436672\n9   chromedriver                        0x000000010108f988 cxxbridge1$str$ptr + 3449788\n10  chromedriver                        0x0000000101073a5c cxxbridge1$str$ptr + 3335312\n11  chromedriver                        0x000000010109024c cxxbridge1$str$ptr + 3452032\n12  chromedriver                        0x0000000101064ce8 cxxbridge1$str$ptr + 3274524\n13  chromedriver                        0x00000001010aa9dc cxxbridge1$str$ptr + 3560464\n14  chromedriver                        0x00000001010aab58 cxxbridge1$str$ptr + 3560844\n15  chromedriver                        0x00000001010b9ad4 cxxbridge1$str$ptr + 3622152\n16  libsystem_pthread.dylib             0x000000019025ffa8 _pthread_start + 148\n17  libsystem_pthread.dylib             0x000000019025ada0 thread_start + 8\n",
          "output_type": "error",
          "traceback": [
            "\u001b[0;31m---------------------------------------------------------------------------\u001b[0m",
            "\u001b[0;31mWebDriverException\u001b[0m                        Traceback (most recent call last)",
            "Cell \u001b[0;32mIn[48], line 26\u001b[0m\n\u001b[1;32m     24\u001b[0m     driver\u001b[38;5;241m.\u001b[39mget(j)\n\u001b[1;32m     25\u001b[0m     x\u001b[38;5;241m=\u001b[39m\u001b[38;5;28minput\u001b[39m() \n\u001b[0;32m---> 26\u001b[0m     g[k[i]]\u001b[38;5;241m=\u001b[39m[\u001b[43mdriver\u001b[49m\u001b[38;5;241;43m.\u001b[39;49m\u001b[43mcurrent_url\u001b[49m,x]\n\u001b[1;32m     27\u001b[0m     \u001b[38;5;28minput\u001b[39m()\n\u001b[1;32m     28\u001b[0m \u001b[38;5;28;01mexcept\u001b[39;00m requests\u001b[38;5;241m.\u001b[39mRequestException:\n",
            "File \u001b[0;32m/Library/Frameworks/Python.framework/Versions/3.13/lib/python3.13/site-packages/selenium/webdriver/remote/webdriver.py:470\u001b[0m, in \u001b[0;36mWebDriver.current_url\u001b[0;34m(self)\u001b[0m\n\u001b[1;32m    461\u001b[0m \u001b[38;5;129m@property\u001b[39m\n\u001b[1;32m    462\u001b[0m \u001b[38;5;28;01mdef\u001b[39;00m \u001b[38;5;21mcurrent_url\u001b[39m(\u001b[38;5;28mself\u001b[39m) \u001b[38;5;241m-\u001b[39m\u001b[38;5;241m>\u001b[39m \u001b[38;5;28mstr\u001b[39m:\n\u001b[1;32m    463\u001b[0m \u001b[38;5;250m    \u001b[39m\u001b[38;5;124;03m\"\"\"Gets the URL of the current page.\u001b[39;00m\n\u001b[1;32m    464\u001b[0m \n\u001b[1;32m    465\u001b[0m \u001b[38;5;124;03m    :Usage:\u001b[39;00m\n\u001b[0;32m   (...)\u001b[0m\n\u001b[1;32m    468\u001b[0m \u001b[38;5;124;03m            driver.current_url\u001b[39;00m\n\u001b[1;32m    469\u001b[0m \u001b[38;5;124;03m    \"\"\"\u001b[39;00m\n\u001b[0;32m--> 470\u001b[0m     \u001b[38;5;28;01mreturn\u001b[39;00m \u001b[38;5;28;43mself\u001b[39;49m\u001b[38;5;241;43m.\u001b[39;49m\u001b[43mexecute\u001b[49m\u001b[43m(\u001b[49m\u001b[43mCommand\u001b[49m\u001b[38;5;241;43m.\u001b[39;49m\u001b[43mGET_CURRENT_URL\u001b[49m\u001b[43m)\u001b[49m[\u001b[38;5;124m\"\u001b[39m\u001b[38;5;124mvalue\u001b[39m\u001b[38;5;124m\"\u001b[39m]\n",
            "File \u001b[0;32m/Library/Frameworks/Python.framework/Versions/3.13/lib/python3.13/site-packages/selenium/webdriver/remote/webdriver.py:380\u001b[0m, in \u001b[0;36mWebDriver.execute\u001b[0;34m(self, driver_command, params)\u001b[0m\n\u001b[1;32m    378\u001b[0m response \u001b[38;5;241m=\u001b[39m \u001b[38;5;28mself\u001b[39m\u001b[38;5;241m.\u001b[39mcommand_executor\u001b[38;5;241m.\u001b[39mexecute(driver_command, params)\n\u001b[1;32m    379\u001b[0m \u001b[38;5;28;01mif\u001b[39;00m response:\n\u001b[0;32m--> 380\u001b[0m     \u001b[38;5;28;43mself\u001b[39;49m\u001b[38;5;241;43m.\u001b[39;49m\u001b[43merror_handler\u001b[49m\u001b[38;5;241;43m.\u001b[39;49m\u001b[43mcheck_response\u001b[49m\u001b[43m(\u001b[49m\u001b[43mresponse\u001b[49m\u001b[43m)\u001b[49m\n\u001b[1;32m    381\u001b[0m     response[\u001b[38;5;124m\"\u001b[39m\u001b[38;5;124mvalue\u001b[39m\u001b[38;5;124m\"\u001b[39m] \u001b[38;5;241m=\u001b[39m \u001b[38;5;28mself\u001b[39m\u001b[38;5;241m.\u001b[39m_unwrap_value(response\u001b[38;5;241m.\u001b[39mget(\u001b[38;5;124m\"\u001b[39m\u001b[38;5;124mvalue\u001b[39m\u001b[38;5;124m\"\u001b[39m, \u001b[38;5;28;01mNone\u001b[39;00m))\n\u001b[1;32m    382\u001b[0m     \u001b[38;5;28;01mreturn\u001b[39;00m response\n",
            "File \u001b[0;32m/Library/Frameworks/Python.framework/Versions/3.13/lib/python3.13/site-packages/selenium/webdriver/remote/errorhandler.py:229\u001b[0m, in \u001b[0;36mErrorHandler.check_response\u001b[0;34m(self, response)\u001b[0m\n\u001b[1;32m    227\u001b[0m         alert_text \u001b[38;5;241m=\u001b[39m value[\u001b[38;5;124m\"\u001b[39m\u001b[38;5;124malert\u001b[39m\u001b[38;5;124m\"\u001b[39m]\u001b[38;5;241m.\u001b[39mget(\u001b[38;5;124m\"\u001b[39m\u001b[38;5;124mtext\u001b[39m\u001b[38;5;124m\"\u001b[39m)\n\u001b[1;32m    228\u001b[0m     \u001b[38;5;28;01mraise\u001b[39;00m exception_class(message, screen, stacktrace, alert_text)  \u001b[38;5;66;03m# type: ignore[call-arg]  # mypy is not smart enough here\u001b[39;00m\n\u001b[0;32m--> 229\u001b[0m \u001b[38;5;28;01mraise\u001b[39;00m exception_class(message, screen, stacktrace)\n",
            "\u001b[0;31mWebDriverException\u001b[0m: Message: disconnected: not connected to DevTools\n  (failed to check if window was closed: disconnected: not connected to DevTools)\n  (Session info: chrome=130.0.6723.117)\nStacktrace:\n0   chromedriver                        0x00000001010c15dc cxxbridge1$str$ptr + 3653648\n1   chromedriver                        0x00000001010b9e3c cxxbridge1$str$ptr + 3623024\n2   chromedriver                        0x0000000100b24100 cxxbridge1$string$len + 88404\n3   chromedriver                        0x0000000100b0e3d8 core::str::slice_error_fail::h1cab30ac4b13c655 + 63280\n4   chromedriver                        0x0000000100b0e318 core::str::slice_error_fail::h1cab30ac4b13c655 + 63088\n5   chromedriver                        0x0000000100b9f64c cxxbridge1$string$len + 593568\n6   chromedriver                        0x0000000100b5b0fc cxxbridge1$string$len + 313680\n7   chromedriver                        0x0000000100b5bd4c cxxbridge1$string$len + 316832\n8   chromedriver                        0x000000010108c64c cxxbridge1$str$ptr + 3436672\n9   chromedriver                        0x000000010108f988 cxxbridge1$str$ptr + 3449788\n10  chromedriver                        0x0000000101073a5c cxxbridge1$str$ptr + 3335312\n11  chromedriver                        0x000000010109024c cxxbridge1$str$ptr + 3452032\n12  chromedriver                        0x0000000101064ce8 cxxbridge1$str$ptr + 3274524\n13  chromedriver                        0x00000001010aa9dc cxxbridge1$str$ptr + 3560464\n14  chromedriver                        0x00000001010aab58 cxxbridge1$str$ptr + 3560844\n15  chromedriver                        0x00000001010b9ad4 cxxbridge1$str$ptr + 3622152\n16  libsystem_pthread.dylib             0x000000019025ffa8 _pthread_start + 148\n17  libsystem_pthread.dylib             0x000000019025ada0 thread_start + 8\n"
          ]
        }
      ],
      "source": [
        "driver = webdriver.Chrome()\n",
        "\n",
        "for i in range(i1,len(k)):\n",
        "    i1=i\n",
        "    l=list(d[k[i]])\n",
        "    s=\"\"\n",
        "    a=0\n",
        "\n",
        "    for j in range(len(l)):\n",
        "        if l[j]==\"'\":\n",
        "            if a==1:\n",
        "                break\n",
        "            a=1\n",
        "            continue\n",
        "        if a==1:\n",
        "            s+=l[j]\n",
        "    if s==\"\":\n",
        "        continue\n",
        "    j=s.strip()\n",
        "    try:\n",
        "        response = requests.get(j, timeout=10)\n",
        "        print(j)\n",
        "        input()\n",
        "        driver.get(j)\n",
        "        x=input()\n",
        "        g[k[i]]=[driver.current_url,x]\n",
        "        input()\n",
        "    except requests.RequestException:\n",
        "        print(j)\n",
        "        driver.get(\"https://google.com\")\n",
        "        search_box = driver.find_element(By.ID, \"APjFqb\")\n",
        "        search_query = k[i]+\"career\"\n",
        "        search_box.send_keys(search_query)\n",
        "        search_box.send_keys(Keys.ENTER)\n",
        "\n",
        "        x=input()\n",
        "        d[k[i]]=driver.current_url\n",
        "        g[k[i]]=[driver.current_url,x,k[i],j]\n",
        "        input()\n",
        "\n",
        "\n",
        "\n",
        "driver.quit()\n",
        "\n",
        "\n",
        "\n",
        "\n",
        ""
      ]
    },
    {
      "cell_type": "code",
      "execution_count": null,
      "id": "12e2145d-1b67-477a-be03-84a239cc4e49",
      "metadata": {
        "id": "12e2145d-1b67-477a-be03-84a239cc4e49",
        "outputId": "5091e953-9f65-4c0b-cc2c-2de92b167d30"
      },
      "outputs": [
        {
          "name": "stdout",
          "output_type": "stream",
          "text": [
            "{'abb': ['https://careers.abb/global/en/search-results?keywords=python', 'b'], 'accenture': ['https://www.accenture.com/in-en/careers/jobsearch?jk=AI&sb=0&vw=0&is_rj=0&pg=1&ct=noida', 'b'], 'accolite': ['https://www.bounteous.com/careers/search-results/?location=India', 'b'], 'aditya birla minacs': ['https://careers.adityabirla.com/job-opportunities-by-function', 'n'], 'adobe': ['https://careers.adobe.com/us/en/search-results?qcity=Noida&qstate=Uttar%20Pradesh&qcountry=India', 'b'], 'aegis': ['https://www.aegisrecruitments.com/', 'm'], 'airbus': 'https://ag.wd3.myworkdayjobs.com/en-US/Airbus'}\n"
          ]
        }
      ],
      "source": [
        "print(g)"
      ]
    },
    {
      "cell_type": "code",
      "execution_count": null,
      "id": "dda4e72f-b0ee-4559-8625-6c7d05edb8c9",
      "metadata": {
        "id": "dda4e72f-b0ee-4559-8625-6c7d05edb8c9"
      },
      "outputs": [],
      "source": [
        "g['adobe'].append(https://adobe.wd5.myworkdayjobs.com/en-US/external_experienced/login?Job_Application_ID=JOB_APPLICATION-3-9731206)"
      ]
    },
    {
      "cell_type": "code",
      "execution_count": null,
      "id": "bdbef75a-9472-489b-bebf-e857d5ee628a",
      "metadata": {
        "id": "bdbef75a-9472-489b-bebf-e857d5ee628a"
      },
      "outputs": [],
      "source": [
        "g['airbus']=('https://ag.wd3.myworkdayjobs.com/en-US/Airbus')"
      ]
    },
    {
      "cell_type": "code",
      "execution_count": null,
      "id": "7e795835-3d2b-4d98-a235-c8203faa118e",
      "metadata": {
        "id": "7e795835-3d2b-4d98-a235-c8203faa118e",
        "outputId": "0aad9bbc-c05c-46b0-e3cd-99e79497036f"
      },
      "outputs": [
        {
          "name": "stdout",
          "output_type": "stream",
          "text": [
            "6\n"
          ]
        }
      ],
      "source": [
        "print(i)"
      ]
    },
    {
      "cell_type": "code",
      "execution_count": null,
      "id": "d6cd44e3-b1c1-493e-91c6-920787acbf80",
      "metadata": {
        "id": "d6cd44e3-b1c1-493e-91c6-920787acbf80"
      },
      "outputs": [],
      "source": []
    },
    {
      "cell_type": "code",
      "execution_count": null,
      "id": "287bb42b-d908-47e5-af75-c99b8af9be5d",
      "metadata": {
        "id": "287bb42b-d908-47e5-af75-c99b8af9be5d"
      },
      "outputs": [],
      "source": []
    },
    {
      "cell_type": "code",
      "execution_count": null,
      "id": "450396f0-f9a9-4fe2-bf67-fc84478a84e4",
      "metadata": {
        "id": "450396f0-f9a9-4fe2-bf67-fc84478a84e4"
      },
      "outputs": [],
      "source": []
    },
    {
      "cell_type": "code",
      "execution_count": null,
      "id": "477dbe47-4e2f-496f-b556-d2f60bd2988e",
      "metadata": {
        "id": "477dbe47-4e2f-496f-b556-d2f60bd2988e"
      },
      "outputs": [],
      "source": []
    },
    {
      "cell_type": "code",
      "execution_count": null,
      "id": "d483daae-73bb-4b50-ba13-5f9479c209eb",
      "metadata": {
        "id": "d483daae-73bb-4b50-ba13-5f9479c209eb"
      },
      "outputs": [],
      "source": []
    },
    {
      "cell_type": "code",
      "execution_count": null,
      "id": "f145e944-16f5-4f1f-9859-14984cd6bd73",
      "metadata": {
        "id": "f145e944-16f5-4f1f-9859-14984cd6bd73"
      },
      "outputs": [],
      "source": []
    },
    {
      "cell_type": "code",
      "execution_count": null,
      "id": "97fc011c-2041-4182-8e18-10ce4a28e011",
      "metadata": {
        "id": "97fc011c-2041-4182-8e18-10ce4a28e011"
      },
      "outputs": [],
      "source": []
    },
    {
      "cell_type": "code",
      "execution_count": null,
      "id": "869a8147-83cd-4786-920e-aed2d471761f",
      "metadata": {
        "id": "869a8147-83cd-4786-920e-aed2d471761f"
      },
      "outputs": [],
      "source": []
    },
    {
      "cell_type": "code",
      "execution_count": null,
      "id": "4552b7b7-09b1-4643-88d5-c6571659b676",
      "metadata": {
        "id": "4552b7b7-09b1-4643-88d5-c6571659b676"
      },
      "outputs": [],
      "source": []
    },
    {
      "cell_type": "code",
      "execution_count": null,
      "id": "367331d6-8ee5-44b3-a70f-5711243e4971",
      "metadata": {
        "id": "367331d6-8ee5-44b3-a70f-5711243e4971"
      },
      "outputs": [],
      "source": []
    },
    {
      "cell_type": "code",
      "execution_count": null,
      "id": "ff0e6a24-9f2f-4073-9ea4-b6d0148428e0",
      "metadata": {
        "id": "ff0e6a24-9f2f-4073-9ea4-b6d0148428e0"
      },
      "outputs": [],
      "source": []
    },
    {
      "cell_type": "code",
      "execution_count": null,
      "id": "5e2f3309-7813-4d13-af36-2af8e53a73bb",
      "metadata": {
        "id": "5e2f3309-7813-4d13-af36-2af8e53a73bb"
      },
      "outputs": [],
      "source": []
    },
    {
      "cell_type": "code",
      "execution_count": null,
      "id": "4ccb5a7f-2eaa-4f52-8aa4-aeaf44205140",
      "metadata": {
        "id": "4ccb5a7f-2eaa-4f52-8aa4-aeaf44205140"
      },
      "outputs": [],
      "source": []
    },
    {
      "cell_type": "code",
      "execution_count": null,
      "id": "f71b5bee-a270-4020-b02a-62a80701b81a",
      "metadata": {
        "id": "f71b5bee-a270-4020-b02a-62a80701b81a"
      },
      "outputs": [],
      "source": []
    },
    {
      "cell_type": "code",
      "execution_count": null,
      "id": "4a246f34-439a-48bc-8381-c978ceff3a6b",
      "metadata": {
        "id": "4a246f34-439a-48bc-8381-c978ceff3a6b"
      },
      "outputs": [],
      "source": []
    },
    {
      "cell_type": "code",
      "execution_count": null,
      "id": "214e5dcb-6115-473a-ba1c-77fa57389610",
      "metadata": {
        "id": "214e5dcb-6115-473a-ba1c-77fa57389610"
      },
      "outputs": [],
      "source": [
        "l=list(d.keys())"
      ]
    },
    {
      "cell_type": "code",
      "execution_count": null,
      "id": "b9ec3ab7-ced9-4b6d-9230-78e1c849cb0a",
      "metadata": {
        "id": "b9ec3ab7-ced9-4b6d-9230-78e1c849cb0a",
        "outputId": "994b4173-2f51-4a03-80d4-67bf767a182d"
      },
      "outputs": [
        {
          "ename": "KeyboardInterrupt",
          "evalue": "",
          "output_type": "error",
          "traceback": [
            "\u001b[0;31m---------------------------------------------------------------------------\u001b[0m",
            "\u001b[0;31mKeyboardInterrupt\u001b[0m                         Traceback (most recent call last)",
            "Cell \u001b[0;32mIn[14], line 8\u001b[0m\n\u001b[1;32m      6\u001b[0m     \u001b[38;5;28;01melse\u001b[39;00m:\n\u001b[1;32m      7\u001b[0m         a\u001b[38;5;241m=\u001b[39ml[i\u001b[38;5;241m+\u001b[39m\u001b[38;5;241m1\u001b[39m] \n\u001b[0;32m----> 8\u001b[0m         \u001b[43mc\u001b[49m\u001b[38;5;241m+\u001b[39m\u001b[38;5;241m=\u001b[39m\u001b[38;5;241m1\u001b[39m \n\u001b[1;32m      9\u001b[0m \u001b[38;5;28mprint\u001b[39m(c)        \n",
            "File \u001b[0;32m/Library/Frameworks/Python.framework/Versions/3.13/lib/python3.13/site-packages/debugpy/_vendored/pydevd/_pydevd_sys_monitoring/_pydevd_sys_monitoring.py:1423\u001b[0m, in \u001b[0;36m_line_event\u001b[0;34m(code, line)\u001b[0m\n\u001b[1;32m   1419\u001b[0m \u001b[38;5;66;03m# print('line event', code.co_name, line)\u001b[39;00m\n\u001b[1;32m   1420\u001b[0m \n\u001b[1;32m   1421\u001b[0m \u001b[38;5;66;03m# We know the frame depth.\u001b[39;00m\n\u001b[1;32m   1422\u001b[0m frame \u001b[38;5;241m=\u001b[39m _getframe(\u001b[38;5;241m1\u001b[39m)\n\u001b[0;32m-> 1423\u001b[0m \u001b[38;5;28;01mreturn\u001b[39;00m \u001b[43m_internal_line_event\u001b[49m\u001b[43m(\u001b[49m\u001b[43mfunc_code_info\u001b[49m\u001b[43m,\u001b[49m\u001b[43m \u001b[49m\u001b[43mframe\u001b[49m\u001b[43m,\u001b[49m\u001b[43m \u001b[49m\u001b[43mline\u001b[49m\u001b[43m)\u001b[49m\n",
            "File \u001b[0;32m/Library/Frameworks/Python.framework/Versions/3.13/lib/python3.13/site-packages/debugpy/_vendored/pydevd/_pydevd_sys_monitoring/_pydevd_sys_monitoring.py:1544\u001b[0m, in \u001b[0;36m_internal_line_event\u001b[0;34m(func_code_info, frame, line)\u001b[0m\n\u001b[1;32m   1542\u001b[0m     \u001b[38;5;28;01mif\u001b[39;00m _is_same_frame(info, stop_frame, frame):\n\u001b[1;32m   1543\u001b[0m         py_db\u001b[38;5;241m.\u001b[39mset_suspend(thread_info\u001b[38;5;241m.\u001b[39mthread, step_cmd, original_step_cmd\u001b[38;5;241m=\u001b[39minfo\u001b[38;5;241m.\u001b[39mpydev_original_step_cmd)\n\u001b[0;32m-> 1544\u001b[0m         \u001b[43m_do_wait_suspend\u001b[49m\u001b[43m(\u001b[49m\u001b[43mpy_db\u001b[49m\u001b[43m,\u001b[49m\u001b[43m \u001b[49m\u001b[43mthread_info\u001b[49m\u001b[43m,\u001b[49m\u001b[43m \u001b[49m\u001b[43mframe\u001b[49m\u001b[43m,\u001b[49m\u001b[43m \u001b[49m\u001b[38;5;124;43m\"\u001b[39;49m\u001b[38;5;124;43mline\u001b[39;49m\u001b[38;5;124;43m\"\u001b[39;49m\u001b[43m,\u001b[49m\u001b[43m \u001b[49m\u001b[38;5;28;43;01mNone\u001b[39;49;00m\u001b[43m)\u001b[49m\n\u001b[1;32m   1545\u001b[0m         \u001b[38;5;28;01mreturn\u001b[39;00m\n\u001b[1;32m   1547\u001b[0m \u001b[38;5;28;01melif\u001b[39;00m step_cmd \u001b[38;5;241m==\u001b[39m CMD_SMART_STEP_INTO:\n",
            "File \u001b[0;32m/Library/Frameworks/Python.framework/Versions/3.13/lib/python3.13/site-packages/debugpy/_vendored/pydevd/_pydevd_sys_monitoring/_pydevd_sys_monitoring.py:1900\u001b[0m, in \u001b[0;36m_do_wait_suspend\u001b[0;34m(py_db, thread_info, frame, event, arg)\u001b[0m\n\u001b[1;32m   1896\u001b[0m \u001b[38;5;28;01mdef\u001b[39;00m \u001b[38;5;21m_do_wait_suspend\u001b[39m(py_db, thread_info, frame, event, arg):\n\u001b[1;32m   1897\u001b[0m \u001b[38;5;66;03m# ENDIF\u001b[39;00m\n\u001b[1;32m   1898\u001b[0m \u001b[38;5;66;03m# fmt: on\u001b[39;00m\n\u001b[1;32m   1899\u001b[0m     thread_info\u001b[38;5;241m.\u001b[39madditional_info\u001b[38;5;241m.\u001b[39mtrace_suspend_type \u001b[38;5;241m=\u001b[39m \u001b[38;5;124m\"\u001b[39m\u001b[38;5;124msys_monitor\u001b[39m\u001b[38;5;124m\"\u001b[39m\n\u001b[0;32m-> 1900\u001b[0m     \u001b[43mpy_db\u001b[49m\u001b[38;5;241;43m.\u001b[39;49m\u001b[43mdo_wait_suspend\u001b[49m\u001b[43m(\u001b[49m\u001b[43mthread_info\u001b[49m\u001b[38;5;241;43m.\u001b[39;49m\u001b[43mthread\u001b[49m\u001b[43m,\u001b[49m\u001b[43m \u001b[49m\u001b[43mframe\u001b[49m\u001b[43m,\u001b[49m\u001b[43m \u001b[49m\u001b[43mevent\u001b[49m\u001b[43m,\u001b[49m\u001b[43m \u001b[49m\u001b[43marg\u001b[49m\u001b[43m)\u001b[49m\n",
            "File \u001b[0;32m/Library/Frameworks/Python.framework/Versions/3.13/lib/python3.13/site-packages/debugpy/_vendored/pydevd/pydevd.py:2197\u001b[0m, in \u001b[0;36mPyDB.do_wait_suspend\u001b[0;34m(self, thread, frame, event, arg, exception_type)\u001b[0m\n\u001b[1;32m   2194\u001b[0m             from_this_thread\u001b[38;5;241m.\u001b[39mappend(frame_custom_thread_id)\n\u001b[1;32m   2196\u001b[0m     \u001b[38;5;28;01mwith\u001b[39;00m \u001b[38;5;28mself\u001b[39m\u001b[38;5;241m.\u001b[39m_threads_suspended_single_notification\u001b[38;5;241m.\u001b[39mnotify_thread_suspended(thread_id, thread, stop_reason):\n\u001b[0;32m-> 2197\u001b[0m         keep_suspended \u001b[38;5;241m=\u001b[39m \u001b[38;5;28;43mself\u001b[39;49m\u001b[38;5;241;43m.\u001b[39;49m\u001b[43m_do_wait_suspend\u001b[49m\u001b[43m(\u001b[49m\u001b[43mthread\u001b[49m\u001b[43m,\u001b[49m\u001b[43m \u001b[49m\u001b[43mframe\u001b[49m\u001b[43m,\u001b[49m\u001b[43m \u001b[49m\u001b[43mevent\u001b[49m\u001b[43m,\u001b[49m\u001b[43m \u001b[49m\u001b[43marg\u001b[49m\u001b[43m,\u001b[49m\u001b[43m \u001b[49m\u001b[43mtrace_suspend_type\u001b[49m\u001b[43m,\u001b[49m\u001b[43m \u001b[49m\u001b[43mfrom_this_thread\u001b[49m\u001b[43m,\u001b[49m\u001b[43m \u001b[49m\u001b[43mframes_tracker\u001b[49m\u001b[43m)\u001b[49m\n\u001b[1;32m   2199\u001b[0m frames_list \u001b[38;5;241m=\u001b[39m \u001b[38;5;28;01mNone\u001b[39;00m\n\u001b[1;32m   2201\u001b[0m \u001b[38;5;28;01mif\u001b[39;00m keep_suspended:\n\u001b[1;32m   2202\u001b[0m     \u001b[38;5;66;03m# This means that we should pause again after a set next statement.\u001b[39;00m\n",
            "File \u001b[0;32m/Library/Frameworks/Python.framework/Versions/3.13/lib/python3.13/site-packages/debugpy/_vendored/pydevd/pydevd.py:2266\u001b[0m, in \u001b[0;36mPyDB._do_wait_suspend\u001b[0;34m(self, thread, frame, event, arg, trace_suspend_type, from_this_thread, frames_tracker)\u001b[0m\n\u001b[1;32m   2263\u001b[0m                 queue\u001b[38;5;241m.\u001b[39mput(internal_cmd)\n\u001b[1;32m   2264\u001b[0m                 wait_timeout \u001b[38;5;241m=\u001b[39m TIMEOUT_FAST\n\u001b[0;32m-> 2266\u001b[0m         \u001b[43mnotify_event\u001b[49m\u001b[38;5;241;43m.\u001b[39;49m\u001b[43mwait\u001b[49m\u001b[43m(\u001b[49m\u001b[43mwait_timeout\u001b[49m\u001b[43m)\u001b[49m\n\u001b[1;32m   2267\u001b[0m         notify_event\u001b[38;5;241m.\u001b[39mclear()\n\u001b[1;32m   2269\u001b[0m \u001b[38;5;28;01mfinally\u001b[39;00m:\n",
            "File \u001b[0;32m/Library/Frameworks/Python.framework/Versions/3.13/lib/python3.13/threading.py:659\u001b[0m, in \u001b[0;36mEvent.wait\u001b[0;34m(self, timeout)\u001b[0m\n\u001b[1;32m    657\u001b[0m signaled \u001b[38;5;241m=\u001b[39m \u001b[38;5;28mself\u001b[39m\u001b[38;5;241m.\u001b[39m_flag\n\u001b[1;32m    658\u001b[0m \u001b[38;5;28;01mif\u001b[39;00m \u001b[38;5;129;01mnot\u001b[39;00m signaled:\n\u001b[0;32m--> 659\u001b[0m     signaled \u001b[38;5;241m=\u001b[39m \u001b[38;5;28;43mself\u001b[39;49m\u001b[38;5;241;43m.\u001b[39;49m\u001b[43m_cond\u001b[49m\u001b[38;5;241;43m.\u001b[39;49m\u001b[43mwait\u001b[49m\u001b[43m(\u001b[49m\u001b[43mtimeout\u001b[49m\u001b[43m)\u001b[49m\n\u001b[1;32m    660\u001b[0m \u001b[38;5;28;01mreturn\u001b[39;00m signaled\n",
            "File \u001b[0;32m/Library/Frameworks/Python.framework/Versions/3.13/lib/python3.13/threading.py:363\u001b[0m, in \u001b[0;36mCondition.wait\u001b[0;34m(self, timeout)\u001b[0m\n\u001b[1;32m    361\u001b[0m \u001b[38;5;28;01melse\u001b[39;00m:\n\u001b[1;32m    362\u001b[0m     \u001b[38;5;28;01mif\u001b[39;00m timeout \u001b[38;5;241m>\u001b[39m \u001b[38;5;241m0\u001b[39m:\n\u001b[0;32m--> 363\u001b[0m         gotit \u001b[38;5;241m=\u001b[39m \u001b[43mwaiter\u001b[49m\u001b[38;5;241;43m.\u001b[39;49m\u001b[43macquire\u001b[49m\u001b[43m(\u001b[49m\u001b[38;5;28;43;01mTrue\u001b[39;49;00m\u001b[43m,\u001b[49m\u001b[43m \u001b[49m\u001b[43mtimeout\u001b[49m\u001b[43m)\u001b[49m\n\u001b[1;32m    364\u001b[0m     \u001b[38;5;28;01melse\u001b[39;00m:\n\u001b[1;32m    365\u001b[0m         gotit \u001b[38;5;241m=\u001b[39m waiter\u001b[38;5;241m.\u001b[39macquire(\u001b[38;5;28;01mFalse\u001b[39;00m)\n",
            "\u001b[0;31mKeyboardInterrupt\u001b[0m: "
          ]
        }
      ],
      "source": [
        "a=l[0]\n",
        "c=0\n",
        "for i in range(len(l)-1):\n",
        "    if a in l[i+1]:\n",
        "        continue\n",
        "    else:\n",
        "        a=l[i+1]\n",
        "        c+=1\n",
        "print(c)\n",
        ""
      ]
    },
    {
      "cell_type": "code",
      "execution_count": null,
      "id": "bd5950cd-ba6e-456f-a90c-df034a534d31",
      "metadata": {
        "id": "bd5950cd-ba6e-456f-a90c-df034a534d31",
        "outputId": "6f34aa9f-a48e-4769-806e-8770fda3116a"
      },
      "outputs": [
        {
          "name": "stderr",
          "output_type": "stream",
          "text": [
            "88852.85s - pydevd: Sending message related to process being replaced timed-out after 5 seconds\n"
          ]
        },
        {
          "name": "stdout",
          "output_type": "stream",
          "text": [
            "Collecting pandas\n",
            "  Downloading pandas-2.2.3-cp313-cp313-macosx_11_0_arm64.whl.metadata (89 kB)\n",
            "Collecting numpy>=1.26.0 (from pandas)\n",
            "  Downloading numpy-2.1.3-cp313-cp313-macosx_11_0_arm64.whl.metadata (116 kB)\n",
            "Requirement already satisfied: python-dateutil>=2.8.2 in /Library/Frameworks/Python.framework/Versions/3.13/lib/python3.13/site-packages (from pandas) (2.9.0.post0)\n",
            "Collecting pytz>=2020.1 (from pandas)\n",
            "  Downloading pytz-2024.2-py2.py3-none-any.whl.metadata (22 kB)\n",
            "Collecting tzdata>=2022.7 (from pandas)\n",
            "  Downloading tzdata-2024.2-py2.py3-none-any.whl.metadata (1.4 kB)\n",
            "Requirement already satisfied: six>=1.5 in /Library/Frameworks/Python.framework/Versions/3.13/lib/python3.13/site-packages (from python-dateutil>=2.8.2->pandas) (1.16.0)\n",
            "Downloading pandas-2.2.3-cp313-cp313-macosx_11_0_arm64.whl (11.3 MB)\n",
            "\u001b[2K   \u001b[90m━━━━━━━━━━━━━━━━━━━━━━━━━━━━━━━━━━━━━━━━\u001b[0m \u001b[32m11.3/11.3 MB\u001b[0m \u001b[31m8.9 MB/s\u001b[0m eta \u001b[36m0:00:00\u001b[0ma \u001b[36m0:00:01\u001b[0m\n",
            "\u001b[?25hDownloading numpy-2.1.3-cp313-cp313-macosx_11_0_arm64.whl (13.5 MB)\n",
            "\u001b[2K   \u001b[90m━━━━━━━━━━━━━━━━━━━━━━━━━━━━━━━━━━━━━━━━\u001b[0m \u001b[32m13.5/13.5 MB\u001b[0m \u001b[31m8.4 MB/s\u001b[0m eta \u001b[36m0:00:00\u001b[0ma \u001b[36m0:00:01\u001b[0m\n",
            "\u001b[?25hDownloading pytz-2024.2-py2.py3-none-any.whl (508 kB)\n",
            "Downloading tzdata-2024.2-py2.py3-none-any.whl (346 kB)\n",
            "Installing collected packages: pytz, tzdata, numpy, pandas\n",
            "Successfully installed numpy-2.1.3 pandas-2.2.3 pytz-2024.2 tzdata-2024.2\n"
          ]
        }
      ],
      "source": [
        "!pip3 install pandas"
      ]
    },
    {
      "cell_type": "code",
      "execution_count": null,
      "id": "7e869292-ca6b-4fbb-8d07-f78177c05489",
      "metadata": {
        "id": "7e869292-ca6b-4fbb-8d07-f78177c05489"
      },
      "outputs": [],
      "source": [
        "import pandas as pd\n",
        "import requests\n",
        "\n",
        "# Load the CSV file\n",
        "file_path = 'comp1.csv'\n",
        "df = pd.read_csv(file_path)\n",
        "driver = webdriver.Chrome()\n",
        "\n",
        "driver.get(\"https://google.com\")\n",
        "# Define a function to get the final redirected URL\n",
        "def get_redirected_url(url):\n",
        "    try:\n",
        "        response = requests.get(url, timeout=10)\n",
        "        return response.url  # Final URL after redirects\n",
        "    except requests.RequestException:\n",
        "\n",
        "        return url  # Return the original URL if there's an issue\n",
        "\n",
        "# Extract URLs and find redirects\n",
        "def process_urls(row):\n",
        "    urls = eval(row)  # Convert string representation to list\n",
        "    if len(urls)!=0:\n",
        "        if \"delo\" in urls[0]:\n",
        "            print(urls)\n",
        "    redirected_urls = [get_redirected_url(url) for url in urls]\n",
        "    return redirected_urls\n",
        "\n",
        "# Apply to each row\n",
        "df['Redirected_URLs'] = df.iloc[:, 1].apply(process_urls)\n",
        "\n",
        "# Save the result back to CSV\n",
        "df.to_csv('updated_links.csv', index=False)\n"
      ]
    },
    {
      "cell_type": "code",
      "execution_count": null,
      "id": "8ec09688-a361-4ec4-8b84-ce241d30d50c",
      "metadata": {
        "id": "8ec09688-a361-4ec4-8b84-ce241d30d50c",
        "outputId": "26b52802-fd84-47f4-a25e-a173a28d731b"
      },
      "outputs": [
        {
          "name": "stdout",
          "output_type": "stream",
          "text": [
            "<class 'str'>\n",
            "<class 'list'>\n",
            "Opening [ for manual handling...\n"
          ]
        },
        {
          "name": "stderr",
          "output_type": "stream",
          "text": [
            "/var/folders/nl/h2vnh4_n3lx_3rssvr4nk9_00000gn/T/ipykernel_2550/264622630.py:16: FutureWarning: Series.__getitem__ treating keys as positions is deprecated. In a future version, integer keys will always be treated as labels (consistent with DataFrame behavior). To access a value by position, use `ser.iloc[pos]`\n",
            "  urls = row[1]\n"
          ]
        },
        {
          "ename": "InvalidArgumentException",
          "evalue": "Message: invalid argument\n  (Session info: chrome=130.0.6723.117)\nStacktrace:\n0   chromedriver                        0x000000010086d5dc cxxbridge1$str$ptr + 3653648\n1   chromedriver                        0x0000000100865e3c cxxbridge1$str$ptr + 3623024\n2   chromedriver                        0x00000001002cff70 cxxbridge1$string$len + 88004\n3   chromedriver                        0x00000001002baf8c cxxbridge1$string$len + 2016\n4   chromedriver                        0x00000001002b9a2c core::str::slice_error_fail::h1cab30ac4b13c655 + 60804\n5   chromedriver                        0x00000001002b9dd8 core::str::slice_error_fail::h1cab30ac4b13c655 + 61744\n6   chromedriver                        0x00000001002d25c0 cxxbridge1$string$len + 97812\n7   chromedriver                        0x000000010034c550 cxxbridge1$string$len + 597412\n8   chromedriver                        0x000000010034bba8 cxxbridge1$string$len + 594940\n9   chromedriver                        0x00000001003070fc cxxbridge1$string$len + 313680\n10  chromedriver                        0x0000000100307d4c cxxbridge1$string$len + 316832\n11  chromedriver                        0x000000010083864c cxxbridge1$str$ptr + 3436672\n12  chromedriver                        0x000000010083b988 cxxbridge1$str$ptr + 3449788\n13  chromedriver                        0x000000010081fa5c cxxbridge1$str$ptr + 3335312\n14  chromedriver                        0x000000010083c24c cxxbridge1$str$ptr + 3452032\n15  chromedriver                        0x0000000100810ce8 cxxbridge1$str$ptr + 3274524\n16  chromedriver                        0x00000001008569dc cxxbridge1$str$ptr + 3560464\n17  chromedriver                        0x0000000100856b58 cxxbridge1$str$ptr + 3560844\n18  chromedriver                        0x0000000100865ad4 cxxbridge1$str$ptr + 3622152\n19  libsystem_pthread.dylib             0x000000019025ffa8 _pthread_start + 148\n20  libsystem_pthread.dylib             0x000000019025ada0 thread_start + 8\n",
          "output_type": "error",
          "traceback": [
            "\u001b[0;31m---------------------------------------------------------------------------\u001b[0m",
            "\u001b[0;31mInvalidArgumentException\u001b[0m                  Traceback (most recent call last)",
            "Cell \u001b[0;32mIn[30], line 26\u001b[0m\n\u001b[1;32m     23\u001b[0m \u001b[38;5;28mprint\u001b[39m(\u001b[38;5;124mf\u001b[39m\u001b[38;5;124m\"\u001b[39m\u001b[38;5;124mOpening \u001b[39m\u001b[38;5;132;01m{\u001b[39;00murl\u001b[38;5;132;01m}\u001b[39;00m\u001b[38;5;124m for manual handling...\u001b[39m\u001b[38;5;124m\"\u001b[39m)\n\u001b[1;32m     25\u001b[0m \u001b[38;5;66;03m# Open the URL\u001b[39;00m\n\u001b[0;32m---> 26\u001b[0m \u001b[43mdriver\u001b[49m\u001b[38;5;241;43m.\u001b[39;49m\u001b[43mget\u001b[49m\u001b[43m(\u001b[49m\u001b[43murl\u001b[49m\u001b[43m)\u001b[49m\n\u001b[1;32m     28\u001b[0m \u001b[38;5;66;03m# Wait for user confirmation before proceeding to fetch the final URL\u001b[39;00m\n\u001b[1;32m     29\u001b[0m \u001b[38;5;28minput\u001b[39m(\u001b[38;5;124m\"\u001b[39m\u001b[38;5;124mPress Enter once you\u001b[39m\u001b[38;5;124m'\u001b[39m\u001b[38;5;124mve reached the final page...\u001b[39m\u001b[38;5;124m\"\u001b[39m)\n",
            "File \u001b[0;32m/Library/Frameworks/Python.framework/Versions/3.13/lib/python3.13/site-packages/selenium/webdriver/remote/webdriver.py:389\u001b[0m, in \u001b[0;36mWebDriver.get\u001b[0;34m(self, url)\u001b[0m\n\u001b[1;32m    387\u001b[0m \u001b[38;5;28;01mdef\u001b[39;00m \u001b[38;5;21mget\u001b[39m(\u001b[38;5;28mself\u001b[39m, url: \u001b[38;5;28mstr\u001b[39m) \u001b[38;5;241m-\u001b[39m\u001b[38;5;241m>\u001b[39m \u001b[38;5;28;01mNone\u001b[39;00m:\n\u001b[1;32m    388\u001b[0m \u001b[38;5;250m    \u001b[39m\u001b[38;5;124;03m\"\"\"Loads a web page in the current browser session.\"\"\"\u001b[39;00m\n\u001b[0;32m--> 389\u001b[0m     \u001b[38;5;28;43mself\u001b[39;49m\u001b[38;5;241;43m.\u001b[39;49m\u001b[43mexecute\u001b[49m\u001b[43m(\u001b[49m\u001b[43mCommand\u001b[49m\u001b[38;5;241;43m.\u001b[39;49m\u001b[43mGET\u001b[49m\u001b[43m,\u001b[49m\u001b[43m \u001b[49m\u001b[43m{\u001b[49m\u001b[38;5;124;43m\"\u001b[39;49m\u001b[38;5;124;43murl\u001b[39;49m\u001b[38;5;124;43m\"\u001b[39;49m\u001b[43m:\u001b[49m\u001b[43m \u001b[49m\u001b[43murl\u001b[49m\u001b[43m}\u001b[49m\u001b[43m)\u001b[49m\n",
            "File \u001b[0;32m/Library/Frameworks/Python.framework/Versions/3.13/lib/python3.13/site-packages/selenium/webdriver/remote/webdriver.py:380\u001b[0m, in \u001b[0;36mWebDriver.execute\u001b[0;34m(self, driver_command, params)\u001b[0m\n\u001b[1;32m    378\u001b[0m response \u001b[38;5;241m=\u001b[39m \u001b[38;5;28mself\u001b[39m\u001b[38;5;241m.\u001b[39mcommand_executor\u001b[38;5;241m.\u001b[39mexecute(driver_command, params)\n\u001b[1;32m    379\u001b[0m \u001b[38;5;28;01mif\u001b[39;00m response:\n\u001b[0;32m--> 380\u001b[0m     \u001b[38;5;28;43mself\u001b[39;49m\u001b[38;5;241;43m.\u001b[39;49m\u001b[43merror_handler\u001b[49m\u001b[38;5;241;43m.\u001b[39;49m\u001b[43mcheck_response\u001b[49m\u001b[43m(\u001b[49m\u001b[43mresponse\u001b[49m\u001b[43m)\u001b[49m\n\u001b[1;32m    381\u001b[0m     response[\u001b[38;5;124m\"\u001b[39m\u001b[38;5;124mvalue\u001b[39m\u001b[38;5;124m\"\u001b[39m] \u001b[38;5;241m=\u001b[39m \u001b[38;5;28mself\u001b[39m\u001b[38;5;241m.\u001b[39m_unwrap_value(response\u001b[38;5;241m.\u001b[39mget(\u001b[38;5;124m\"\u001b[39m\u001b[38;5;124mvalue\u001b[39m\u001b[38;5;124m\"\u001b[39m, \u001b[38;5;28;01mNone\u001b[39;00m))\n\u001b[1;32m    382\u001b[0m     \u001b[38;5;28;01mreturn\u001b[39;00m response\n",
            "File \u001b[0;32m/Library/Frameworks/Python.framework/Versions/3.13/lib/python3.13/site-packages/selenium/webdriver/remote/errorhandler.py:229\u001b[0m, in \u001b[0;36mErrorHandler.check_response\u001b[0;34m(self, response)\u001b[0m\n\u001b[1;32m    227\u001b[0m         alert_text \u001b[38;5;241m=\u001b[39m value[\u001b[38;5;124m\"\u001b[39m\u001b[38;5;124malert\u001b[39m\u001b[38;5;124m\"\u001b[39m]\u001b[38;5;241m.\u001b[39mget(\u001b[38;5;124m\"\u001b[39m\u001b[38;5;124mtext\u001b[39m\u001b[38;5;124m\"\u001b[39m)\n\u001b[1;32m    228\u001b[0m     \u001b[38;5;28;01mraise\u001b[39;00m exception_class(message, screen, stacktrace, alert_text)  \u001b[38;5;66;03m# type: ignore[call-arg]  # mypy is not smart enough here\u001b[39;00m\n\u001b[0;32m--> 229\u001b[0m \u001b[38;5;28;01mraise\u001b[39;00m exception_class(message, screen, stacktrace)\n",
            "\u001b[0;31mInvalidArgumentException\u001b[0m: Message: invalid argument\n  (Session info: chrome=130.0.6723.117)\nStacktrace:\n0   chromedriver                        0x000000010086d5dc cxxbridge1$str$ptr + 3653648\n1   chromedriver                        0x0000000100865e3c cxxbridge1$str$ptr + 3623024\n2   chromedriver                        0x00000001002cff70 cxxbridge1$string$len + 88004\n3   chromedriver                        0x00000001002baf8c cxxbridge1$string$len + 2016\n4   chromedriver                        0x00000001002b9a2c core::str::slice_error_fail::h1cab30ac4b13c655 + 60804\n5   chromedriver                        0x00000001002b9dd8 core::str::slice_error_fail::h1cab30ac4b13c655 + 61744\n6   chromedriver                        0x00000001002d25c0 cxxbridge1$string$len + 97812\n7   chromedriver                        0x000000010034c550 cxxbridge1$string$len + 597412\n8   chromedriver                        0x000000010034bba8 cxxbridge1$string$len + 594940\n9   chromedriver                        0x00000001003070fc cxxbridge1$string$len + 313680\n10  chromedriver                        0x0000000100307d4c cxxbridge1$string$len + 316832\n11  chromedriver                        0x000000010083864c cxxbridge1$str$ptr + 3436672\n12  chromedriver                        0x000000010083b988 cxxbridge1$str$ptr + 3449788\n13  chromedriver                        0x000000010081fa5c cxxbridge1$str$ptr + 3335312\n14  chromedriver                        0x000000010083c24c cxxbridge1$str$ptr + 3452032\n15  chromedriver                        0x0000000100810ce8 cxxbridge1$str$ptr + 3274524\n16  chromedriver                        0x00000001008569dc cxxbridge1$str$ptr + 3560464\n17  chromedriver                        0x0000000100856b58 cxxbridge1$str$ptr + 3560844\n18  chromedriver                        0x0000000100865ad4 cxxbridge1$str$ptr + 3622152\n19  libsystem_pthread.dylib             0x000000019025ffa8 _pthread_start + 148\n20  libsystem_pthread.dylib             0x000000019025ada0 thread_start + 8\n"
          ]
        }
      ],
      "source": [
        "import pandas as pd\n",
        "from selenium import webdriver\n",
        "from selenium.webdriver.common.by import By\n",
        "\n",
        "# Load the CSV file\n",
        "file_path = 'comp1.csv'\n",
        "df = pd.read_csv(file_path)\n",
        "\n",
        "# Initialize the browser (assuming Chrome here; change if needed)\n",
        "driver = webdriver.Chrome()  # Make sure ChromeDriver is in your PATH\n",
        "\n",
        "# Function to open each URL, allow for manual handling, and then save the final URL\n",
        "final_urls = []\n",
        "\n",
        "for index, row in df.iterrows():\n",
        "    urls = row[1]\n",
        "    print(type(urls))\n",
        "    urls=list(urls)\n",
        "    print(type(urls))\n",
        "    # Assumes the URL is in the second column\n",
        "    for url in urls:\n",
        "        if isinstance(url, str):\n",
        "            print(f\"Opening {url} for manual handling...\")\n",
        "\n",
        "            # Open the URL\n",
        "            driver.get(url)\n",
        "\n",
        "            # Wait for user confirmation before proceeding to fetch the final URL\n",
        "            input(\"Press Enter once you've reached the final page...\")\n",
        "\n",
        "            # Fetch the current URL after manual handling\n",
        "            final_url = driver.current_url\n",
        "            final_urls.append(final_url)\n",
        "            input()\n",
        "        else:\n",
        "            # If URL is missing or invalid, add a placeholder\n",
        "            final_urls.append(\"URL missing or invalid\")\n",
        "\n",
        "# Add final URLs to the DataFrame\n",
        "df['Final_URL'] = final_urls\n",
        "\n",
        "# Save the updated DataFrame to a new CSV\n",
        "df.to_csv('updated_links_with_final_urls.csv', index=False)\n",
        "\n",
        "# Close the browser\n",
        "driver.quit()\n"
      ]
    },
    {
      "cell_type": "code",
      "execution_count": null,
      "id": "02230b8a-b33b-4e45-9369-d3fdf7ac3d2c",
      "metadata": {
        "id": "02230b8a-b33b-4e45-9369-d3fdf7ac3d2c"
      },
      "outputs": [],
      "source": []
    },
    {
      "cell_type": "code",
      "execution_count": null,
      "id": "0ddd06dc-17d7-40f9-bf1e-250ae23cc7f7",
      "metadata": {
        "id": "0ddd06dc-17d7-40f9-bf1e-250ae23cc7f7"
      },
      "outputs": [],
      "source": []
    },
    {
      "cell_type": "code",
      "execution_count": null,
      "id": "800f5f66-8d24-44b7-98a5-6f40fff8e29a",
      "metadata": {
        "id": "800f5f66-8d24-44b7-98a5-6f40fff8e29a"
      },
      "outputs": [],
      "source": [
        "urls=[' https://careers.abb/global/en/home']"
      ]
    },
    {
      "cell_type": "code",
      "execution_count": null,
      "id": "2d474f92-f97d-4681-9fd4-9c9fe0264b85",
      "metadata": {
        "id": "2d474f92-f97d-4681-9fd4-9c9fe0264b85"
      },
      "outputs": [],
      "source": []
    },
    {
      "cell_type": "code",
      "execution_count": null,
      "id": "f4a665dc-c32a-4070-aeaa-b42d3babae5d",
      "metadata": {
        "id": "f4a665dc-c32a-4070-aeaa-b42d3babae5d"
      },
      "outputs": [],
      "source": [
        "1. TCS (Tata Consultancy Services)\n",
        "2. Infosys\n",
        "3. Wipro\n",
        "4. HCL Technologies\n",
        "5. Tech Mahindra\n",
        "6. Cognizant\n",
        "7. L&T Infotech\n",
        "8. Mindtree\n",
        "9. Hexaware\n",
        "10. Oracle Financial Services\n",
        "11. Accenture India\n",
        "12. IBM India\n",
        "13. Dell EMC India\n",
        "14. HP India\n",
        "15. Cisco Systems India\n",
        "16. Microsoft India\n",
        "17. SAP India\n",
        "18. Genpact\n",
        "19. Conduent\n",
        "20. Aegis\n",
        "21. Zensar Technologies\n",
        "22. NIIT Technologies\n",
        "23. Cyient\n",
        "24. Sonata Software\n",
        "25. Larsen & Toubro Infotech\n",
        "26. Mphasis\n",
        "27. Birlasoft\n",
        "28. iGATE\n",
        "29. Patni Computer Systems\n",
        "30. Syntel\n",
        "31. WNS Global Services\n",
        "32. EXL Service\n",
        "33. Hinduja Global Solutions\n",
        "34. Firstsource Solutions\n",
        "35. Intelenet Global Services\n",
        "36. Serco Global Services\n",
        "37. Sutherland Global Services\n",
        "38. Aditya Birla Minacs\n",
        "39. Amdocs India\n",
        "40. Wipro BPO\n",
        "41. HCL BPO\n",
        "42. Conneqt Business Solutions\n",
        "43. CSS Corp\n",
        "44. 3i Infotech\n",
        "45. Polaris Consulting & Services\n",
        "46. Virtusa\n",
        "47. KPIT Technologies\n",
        "48. Persistent Systems\n",
        "49. eClerx\n",
        "50. Datamatics\n",
        "51. Mastek\n",
        "52. Rolta India\n",
        "53. Allied Digital Services\n",
        "54. Zenith Infotech\n",
        "55. NTT Data India\n",
        "56. Fujitsu Consulting India\n",
        "57. Hitachi Consulting India\n",
        "58. NEC India\n",
        "59. Panasonic India\n",
        "60. Ricoh India\n",
        "61. Toshiba India\n",
        "62. Unisys India\n",
        "63. Xerox India\n",
        "64. Zoho Corporation\n",
        "65. Freshworks\n",
        "66. InMobi\n",
        "67. Paytm\n",
        "68. Ola\n",
        "69. Flipkart\n",
        "70. Amazon Development Centre India\n",
        "71. Google India\n",
        "72. Facebook India\n",
        "73. Microsoft India Development Centre\n",
        "74. IBM India Software Labs\n",
        "75. Oracle India Pvt Ltd\n",
        "76. SAP Labs India\n",
        "77. Accenture Labs India\n",
        "78. Wipro Ventures\n",
        "79. HCL Technologies Ventures\n",
        "80. Tech Mahindra Ventures\n",
        "81. Cognizant Ventures\n",
        "82. L&T Technology Services\n",
        "83. Mindtree Ventures\n",
        "84. Hexaware Ventures\n",
        "85. NIIT Ventures\n",
        "86. Cyient Ventures\n",
        "87. Sonata Software Ventures\n",
        "88. Mphasis Ventures\n",
        "89. Birlasoft Ventures\n",
        "90. iGATE Ventures\n",
        "91. Patni Computer Systems Ventures\n",
        "92. Syntel Ventures\n",
        "93. WNS Global Services Ventures\n",
        "94. EXL Service Ventures\n",
        "95. Hinduja Global Solutions Ventures\n",
        "96. Firstsource Solutions Ventures\n",
        "97. Intelenet Global Services Ventures\n",
        "98. Serco Global Services Ventures\n",
        "99. Sutherland Global Services Ventures\n",
        "100. Aditya Birla Minacs Ventures\n",
        "101. Amdocs India Ventures\n",
        "102. Wipro BPO Ventures\n",
        "103. HCL BPO Ventures\n",
        "104. Conneqt Business Solutions Ventures\n",
        "105. CSS Corp Ventures\n",
        "106. 3i Infotech Ventures\n",
        "107. Polaris Consulting & Services Ventures\n",
        "108. Virtusa Ventures\n",
        "109. KPIT Technologies Ventures\n",
        "110. Persistent Systems Ventures\n",
        "111. eClerx Ventures\n",
        "112. Datamatics Ventures\n",
        "113. Mastek Ventures\n",
        "114. Rolta India Ventures\n",
        "115. Allied Digital Services Ventures\n",
        "116. Zenith Infotech Ventures\n",
        "117. NTT Data India Ventures\n",
        "118. Fujitsu Consulting India Ventures\n",
        "119. Hitachi Consulting India Ventures\n",
        "120. NEC India Ventures\n",
        "121. Panasonic India Ventures\n",
        "122. Ricoh India Ventures\n",
        "123. Toshiba India Ventures\n",
        "124. Unisys India Ventures\n",
        "125. Xerox India Ventures\n",
        "126. Zoho Corporation Ventures\n",
        "127. Freshworks Ventures\n",
        "128. InMobi Ventures\n",
        "129. Paytm Ventures\n",
        "130. Ola Ventures\n",
        "131. Flipkart Ventures\n",
        "132. Amazon Development Centre India Ventures\n",
        "133. Google India Ventures\n",
        "134. Facebook India Ventures\n",
        "135. Microsoft India Development Centre Ventures\n",
        "136. IBM India Software Labs Ventures\n",
        "137. Oracle India Pvt Ltd Ventures\n",
        "138. SAP Labs India Ventures\n",
        "139. Accenture Labs India Ventures\n",
        "140. Wipro Ventures\n",
        "141. HCL Technologies Ventures\n",
        "142. Tech Mahindra Ventures\n",
        "143. Cognizant Ventures\n",
        "144. L&T Technology Services Ventures\n",
        "145. Mindtree Ventures\n",
        "146. Hexaware Ventures\n",
        "147. NIIT Ventures\n",
        "148. Cyient Ventures\n",
        "149. Sonata Software Ventures\n",
        "150. Mphasis Ventures\n",
        "151. Birlasoft Ventures\n",
        "152. iGATE Ventures\n",
        "153. Patni Computer Systems Ventures\n",
        "154. Syntel Ventures\n",
        "155. WNS Global Services Ventures\n",
        "156. EXL Service Ventures\n",
        "157. Hinduja Global Solutions Ventures\n",
        "158. Firstsource Solutions Ventures\n",
        "159. Intelenet Global Services Ventures\n",
        "160. Serco Global Services Ventures\n",
        "161. Sutherland Global Services Ventures\n",
        "162. Aditya Birla Minacs Ventures\n",
        "163. Amdocs India Ventures\n",
        "164. Wipro BPO Ventures\n",
        "165. HCL BPO Ventures\n",
        "166. Conneqt Business Solutions Ventures\n",
        "167. CSS Corp Ventures\n",
        "168. 3i Infotech Ventures\n",
        "169. Polaris Consulting & Services Ventures\n",
        "170. Virtusa Ventures\n",
        "171. KPIT Technologies Ventures\n",
        "172. Persistent Systems Ventures\n",
        "173. eClerx Ventures\n",
        "174. Datamatics Ventures\n",
        "175. Mastek Ventures\n",
        "176. Rolta India Ventures\n",
        "177. Allied Digital Services Ventures\n",
        "178. Zenith Infotech Ventures\n",
        "179. NTT Data India Ventures\n",
        "180. Fujitsu Consulting India Ventures\n",
        "181. Hitachi Consulting India Ventures\n",
        "182. NEC India Ventures\n",
        "183. Panasonic India Ventures\n",
        "184. Ricoh India Ventures\n",
        "185. Toshiba India Ventures\n",
        "186. Unisys India Ventures\n",
        "187. Xerox India Ventures\n",
        "188. Zoho Corporation Ventures\n",
        "189. Freshworks Ventures\n",
        "190. InMobi Ventures\n",
        "191. Paytm Ventures\n",
        "192. Ola Ventures\n",
        "193. Flipkart Ventures\n",
        "194. Amazon Development Centre India Ventures\n",
        "195. Google India Ventures\n",
        "196. Facebook India Ventures\n",
        "197. Microsoft India Development Centre Ventures\n",
        "198. IBM India Software Labs Ventures\n",
        "199. Oracle India Pvt Ltd Ventures\n",
        "200. SAP Labs India Ventures\n"
      ]
    }
  ],
  "metadata": {
    "kernelspec": {
      "display_name": "Python 3 (ipykernel)",
      "language": "python",
      "name": "python3"
    },
    "language_info": {
      "codemirror_mode": {
        "name": "ipython",
        "version": 3
      },
      "file_extension": ".py",
      "mimetype": "text/x-python",
      "name": "python",
      "nbconvert_exporter": "python",
      "pygments_lexer": "ipython3",
      "version": "3.13.0"
    },
    "colab": {
      "provenance": [],
      "include_colab_link": true
    }
  },
  "nbformat": 4,
  "nbformat_minor": 5
}